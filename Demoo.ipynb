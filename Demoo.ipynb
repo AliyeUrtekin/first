{
    "cells": [
        {
            "cell_type": "code",
            "execution_count": 1,
            "metadata": {},
            "outputs": [
                {
                    "data": {
                        "text/html": "<div>\n<style scoped>\n    .dataframe tbody tr th:only-of-type {\n        vertical-align: middle;\n    }\n\n    .dataframe tbody tr th {\n        vertical-align: top;\n    }\n\n    .dataframe thead th {\n        text-align: right;\n    }\n</style>\n<table border=\"1\" class=\"dataframe\">\n  <thead>\n    <tr style=\"text-align: right;\">\n      <th></th>\n      <th>video_id</th>\n      <th>trending_date</th>\n      <th>title</th>\n      <th>channel_title</th>\n      <th>category_id</th>\n      <th>publish_time</th>\n      <th>tags</th>\n      <th>views</th>\n      <th>likes</th>\n      <th>dislikes</th>\n      <th>comment_count</th>\n      <th>thumbnail_link</th>\n      <th>comments_disabled</th>\n      <th>ratings_disabled</th>\n      <th>video_error_or_removed</th>\n      <th>description</th>\n    </tr>\n  </thead>\n  <tbody>\n    <tr>\n      <th>0</th>\n      <td>n1WpP7iowLc</td>\n      <td>17.14.11</td>\n      <td>Eminem - Walk On Water (Audio) ft. Beyonc\u00e9</td>\n      <td>EminemVEVO</td>\n      <td>10</td>\n      <td>2017-11-10T17:00:03.000Z</td>\n      <td>Eminem|\"Walk\"|\"On\"|\"Water\"|\"Aftermath/Shady/In...</td>\n      <td>17158579</td>\n      <td>787425</td>\n      <td>43420</td>\n      <td>125882</td>\n      <td>https://i.ytimg.com/vi/n1WpP7iowLc/default.jpg</td>\n      <td>False</td>\n      <td>False</td>\n      <td>False</td>\n      <td>Eminem's new track Walk on Water ft. Beyonc\u00e9 i...</td>\n    </tr>\n    <tr>\n      <th>1</th>\n      <td>0dBIkQ4Mz1M</td>\n      <td>17.14.11</td>\n      <td>PLUSH - Bad Unboxing Fan Mail</td>\n      <td>iDubbbzTV</td>\n      <td>23</td>\n      <td>2017-11-13T17:00:00.000Z</td>\n      <td>plush|\"bad unboxing\"|\"unboxing\"|\"fan mail\"|\"id...</td>\n      <td>1014651</td>\n      <td>127794</td>\n      <td>1688</td>\n      <td>13030</td>\n      <td>https://i.ytimg.com/vi/0dBIkQ4Mz1M/default.jpg</td>\n      <td>False</td>\n      <td>False</td>\n      <td>False</td>\n      <td>STill got a lot of packages. Probably will las...</td>\n    </tr>\n    <tr>\n      <th>2</th>\n      <td>5qpjK5DgCt4</td>\n      <td>17.14.11</td>\n      <td>Racist Superman | Rudy Mancuso, King Bach &amp; Le...</td>\n      <td>Rudy Mancuso</td>\n      <td>23</td>\n      <td>2017-11-12T19:05:24.000Z</td>\n      <td>racist superman|\"rudy\"|\"mancuso\"|\"king\"|\"bach\"...</td>\n      <td>3191434</td>\n      <td>146035</td>\n      <td>5339</td>\n      <td>8181</td>\n      <td>https://i.ytimg.com/vi/5qpjK5DgCt4/default.jpg</td>\n      <td>False</td>\n      <td>False</td>\n      <td>False</td>\n      <td>WATCH MY PREVIOUS VIDEO \u25b6 \\n\\nSUBSCRIBE \u25ba http...</td>\n    </tr>\n    <tr>\n      <th>3</th>\n      <td>d380meD0W0M</td>\n      <td>17.14.11</td>\n      <td>I Dare You: GOING BALD!?</td>\n      <td>nigahiga</td>\n      <td>24</td>\n      <td>2017-11-12T18:01:41.000Z</td>\n      <td>ryan|\"higa\"|\"higatv\"|\"nigahiga\"|\"i dare you\"|\"...</td>\n      <td>2095828</td>\n      <td>132239</td>\n      <td>1989</td>\n      <td>17518</td>\n      <td>https://i.ytimg.com/vi/d380meD0W0M/default.jpg</td>\n      <td>False</td>\n      <td>False</td>\n      <td>False</td>\n      <td>I know it's been a while since we did this sho...</td>\n    </tr>\n    <tr>\n      <th>4</th>\n      <td>2Vv-BfVoq4g</td>\n      <td>17.14.11</td>\n      <td>Ed Sheeran - Perfect (Official Music Video)</td>\n      <td>Ed Sheeran</td>\n      <td>10</td>\n      <td>2017-11-09T11:04:14.000Z</td>\n      <td>edsheeran|\"ed sheeran\"|\"acoustic\"|\"live\"|\"cove...</td>\n      <td>33523622</td>\n      <td>1634130</td>\n      <td>21082</td>\n      <td>85067</td>\n      <td>https://i.ytimg.com/vi/2Vv-BfVoq4g/default.jpg</td>\n      <td>False</td>\n      <td>False</td>\n      <td>False</td>\n      <td>\ud83c\udfa7: https://ad.gt/yt-perfect\\n\ud83d\udcb0: https://atlant...</td>\n    </tr>\n  </tbody>\n</table>\n</div>",
                        "text/plain": "      video_id trending_date  \\\n0  n1WpP7iowLc      17.14.11   \n1  0dBIkQ4Mz1M      17.14.11   \n2  5qpjK5DgCt4      17.14.11   \n3  d380meD0W0M      17.14.11   \n4  2Vv-BfVoq4g      17.14.11   \n\n                                               title channel_title  \\\n0         Eminem - Walk On Water (Audio) ft. Beyonc\u00e9    EminemVEVO   \n1                      PLUSH - Bad Unboxing Fan Mail     iDubbbzTV   \n2  Racist Superman | Rudy Mancuso, King Bach & Le...  Rudy Mancuso   \n3                           I Dare You: GOING BALD!?      nigahiga   \n4        Ed Sheeran - Perfect (Official Music Video)    Ed Sheeran   \n\n   category_id              publish_time  \\\n0           10  2017-11-10T17:00:03.000Z   \n1           23  2017-11-13T17:00:00.000Z   \n2           23  2017-11-12T19:05:24.000Z   \n3           24  2017-11-12T18:01:41.000Z   \n4           10  2017-11-09T11:04:14.000Z   \n\n                                                tags     views    likes  \\\n0  Eminem|\"Walk\"|\"On\"|\"Water\"|\"Aftermath/Shady/In...  17158579   787425   \n1  plush|\"bad unboxing\"|\"unboxing\"|\"fan mail\"|\"id...   1014651   127794   \n2  racist superman|\"rudy\"|\"mancuso\"|\"king\"|\"bach\"...   3191434   146035   \n3  ryan|\"higa\"|\"higatv\"|\"nigahiga\"|\"i dare you\"|\"...   2095828   132239   \n4  edsheeran|\"ed sheeran\"|\"acoustic\"|\"live\"|\"cove...  33523622  1634130   \n\n   dislikes  comment_count                                  thumbnail_link  \\\n0     43420         125882  https://i.ytimg.com/vi/n1WpP7iowLc/default.jpg   \n1      1688          13030  https://i.ytimg.com/vi/0dBIkQ4Mz1M/default.jpg   \n2      5339           8181  https://i.ytimg.com/vi/5qpjK5DgCt4/default.jpg   \n3      1989          17518  https://i.ytimg.com/vi/d380meD0W0M/default.jpg   \n4     21082          85067  https://i.ytimg.com/vi/2Vv-BfVoq4g/default.jpg   \n\n   comments_disabled  ratings_disabled  video_error_or_removed  \\\n0              False             False                   False   \n1              False             False                   False   \n2              False             False                   False   \n3              False             False                   False   \n4              False             False                   False   \n\n                                         description  \n0  Eminem's new track Walk on Water ft. Beyonc\u00e9 i...  \n1  STill got a lot of packages. Probably will las...  \n2  WATCH MY PREVIOUS VIDEO \u25b6 \\n\\nSUBSCRIBE \u25ba http...  \n3  I know it's been a while since we did this sho...  \n4  \ud83c\udfa7: https://ad.gt/yt-perfect\\n\ud83d\udcb0: https://atlant...  "
                    },
                    "execution_count": 1,
                    "metadata": {},
                    "output_type": "execute_result"
                }
            ],
            "source": "# The code was removed by Watson Studio for sharing."
        },
        {
            "cell_type": "code",
            "execution_count": null,
            "metadata": {},
            "outputs": [],
            "source": ""
        }
    ],
    "metadata": {
        "kernelspec": {
            "display_name": "Python 3.9",
            "language": "python",
            "name": "python3"
        },
        "language_info": {
            "codemirror_mode": {
                "name": "ipython",
                "version": 3
            },
            "file_extension": ".py",
            "mimetype": "text/x-python",
            "name": "python",
            "nbconvert_exporter": "python",
            "pygments_lexer": "ipython3",
            "version": "3.9.13"
        }
    },
    "nbformat": 4,
    "nbformat_minor": 1
}